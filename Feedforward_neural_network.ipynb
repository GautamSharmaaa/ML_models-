{
  "nbformat": 4,
  "nbformat_minor": 0,
  "metadata": {
    "colab": {
      "provenance": []
    },
    "kernelspec": {
      "name": "python3",
      "display_name": "Python 3"
    },
    "language_info": {
      "name": "python"
    }
  },
  "cells": [
    {
      "cell_type": "markdown",
      "source": [
        "Step 1: Import Required Libraries"
      ],
      "metadata": {
        "id": "133tI_jW9sDQ"
      }
    },
    {
      "cell_type": "code",
      "execution_count": null,
      "metadata": {
        "id": "kKXufO2j9p3P"
      },
      "outputs": [],
      "source": [
        "import numpy as np\n",
        "import matplotlib.pyplot as plt\n",
        "from sklearn.datasets import fetch_openml\n",
        "from sklearn.model_selection import train_test_split\n",
        "from sklearn.neural_network import MLPClassifier\n",
        "from sklearn.metrics import accuracy_score, precision_recall_fscore_support\n",
        "from sklearn.preprocessing import MinMaxScaler\n",
        "import numpy as np\n",
        "import time\n",
        "import tensorflow as tf\n",
        "from tensorflow.keras.models import Sequential\n",
        "from tensorflow.keras.layers import Dense"
      ]
    },
    {
      "cell_type": "markdown",
      "source": [
        "Step 2: Load the MNIST Dataset"
      ],
      "metadata": {
        "id": "elYG55Ni9zPo"
      }
    },
    {
      "cell_type": "code",
      "source": [
        "# Q1: Load the dataset\n",
        "X, y = fetch_openml('mnist_784', version=1, return_X_y=True)\n",
        "y = y.astype(int)"
      ],
      "metadata": {
        "id": "QBuW_iJG91R3"
      },
      "execution_count": null,
      "outputs": []
    },
    {
      "cell_type": "markdown",
      "source": [
        "Step 3: Check Data Shapes"
      ],
      "metadata": {
        "id": "k1rY5g6X94pd"
      }
    },
    {
      "cell_type": "code",
      "source": [
        "# Q2: Print shapes\n",
        "print(\"Input shape:\", X.shape)  # (70000, 784)\n",
        "print(\"Target shape:\", y.shape) # (70000,)"
      ],
      "metadata": {
        "colab": {
          "base_uri": "https://localhost:8080/"
        },
        "id": "KX2qWUTt97KZ",
        "outputId": "cc7b2c5d-1f4a-4e95-ea6a-2d2a5857979e"
      },
      "execution_count": null,
      "outputs": [
        {
          "output_type": "stream",
          "name": "stdout",
          "text": [
            "Input shape: (70000, 784)\n",
            "Target shape: (70000,)\n"
          ]
        }
      ]
    },
    {
      "cell_type": "markdown",
      "source": [
        "Step 4: Display First 10 Images"
      ],
      "metadata": {
        "id": "UG32oeB0-BdQ"
      }
    },
    {
      "cell_type": "code",
      "source": [
        "X = np.array(X)\n",
        "y = np.array(y)\n",
        "\n",
        "# Display the top 10 images safely\n",
        "fig, axes = plt.subplots(2, 5, figsize=(10, 5))\n",
        "\n",
        "for i, ax in enumerate(axes.flat):\n",
        "    if i < len(X):  # Prevent indexing errors\n",
        "        ax.imshow(X[i].reshape(28, 28), cmap='gray')\n",
        "        ax.set_title(f\"Label: {y[i]}\")\n",
        "        ax.axis('off')\n",
        "\n",
        "plt.tight_layout()\n",
        "plt.show()"
      ],
      "metadata": {
        "colab": {
          "base_uri": "https://localhost:8080/",
          "height": 473
        },
        "id": "hSNKmWDb-DWF",
        "outputId": "7c4b1e91-f5c8-42d8-9f90-f04d0766cf26"
      },
      "execution_count": null,
      "outputs": [
        {
          "output_type": "display_data",
          "data": {
            "text/plain": [
              "<Figure size 1000x500 with 10 Axes>"
            ],
            "image/png": "[encoded data removed]"
          },
          "metadata": {}
        }
      ]
    },
    {
      "cell_type": "markdown",
      "source": [
        "Step 5: Feature Scaling"
      ],
      "metadata": {
        "id": "CMB68LBEAMgO"
      }
    },
    {
      "cell_type": "code",
      "source": [
        "# Q4: Scale features to [0, 1]\n",
        "scaler = MinMaxScaler()\n",
        "X_scaled = scaler.fit_transform(X)"
      ],
      "metadata": {
        "id": "o3xMkWC1AB-z"
      },
      "execution_count": null,
      "outputs": []
    },
    {
      "cell_type": "markdown",
      "source": [
        "Step 6: Split Data into Training and Testing Sets"
      ],
      "metadata": {
        "id": "mjHvQP6AAPn9"
      }
    },
    {
      "cell_type": "code",
      "source": [
        "# Q6: Split into 80% train and 20% test\n",
        "X_train, X_test, y_train, y_test = train_test_split(X_scaled, y, test_size=0.2, random_state=42)"
      ],
      "metadata": {
        "id": "RIOuZ-UXAFq-"
      },
      "execution_count": null,
      "outputs": []
    },
    {
      "cell_type": "markdown",
      "source": [
        "Step 7: Train the FFN Model"
      ],
      "metadata": {
        "id": "uVigum_cAVka"
      }
    },
    {
      "cell_type": "code",
      "source": [
        "# Q7: Train FFN with 1 hidden layer (64 neurons) and max_iter=10\n",
        "mlp = MLPClassifier(hidden_layer_sizes=(64,), max_iter=200, random_state=42)\n",
        "mlp.fit(X_train, y_train)"
      ],
      "metadata": {
        "colab": {
          "base_uri": "https://localhost:8080/",
          "height": 80
        },
        "id": "kc_HLkrFATUr",
        "outputId": "e6846d47-80fb-48ca-fe21-97fa06e9cb91"
      },
      "execution_count": null,
      "outputs": [
        {
          "output_type": "execute_result",
          "data": {
            "text/plain": [
              "MLPClassifier(hidden_layer_sizes=(64,), random_state=42)"
            ],
            "text/html": [
              "<style>#sk-container-id-1 {\n",
              "  /* Definition of color scheme common for light and dark mode */\n",
              "  --sklearn-color-text: #000;\n",
              "  --sklearn-color-text-muted: #666;\n",
              "  --sklearn-color-line: gray;\n",
              "  /* Definition of color scheme for unfitted estimators */\n",
              "  --sklearn-color-unfitted-level-0: #fff5e6;\n",
              "  --sklearn-color-unfitted-level-1: #f6e4d2;\n",
              "  --sklearn-color-unfitted-level-2: #ffe0b3;\n",
              "  --sklearn-color-unfitted-level-3: chocolate;\n",
              "  /* Definition of color scheme for fitted estimators */\n",
              "  --sklearn-color-fitted-level-0: #f0f8ff;\n",
              "  --sklearn-color-fitted-level-1: #d4ebff;\n",
              "  --sklearn-color-fitted-level-2: #b3dbfd;\n",
              "  --sklearn-color-fitted-level-3: cornflowerblue;\n",
              "\n",
              "  /* Specific color for light theme */\n",
              "  --sklearn-color-text-on-default-background: var(--sg-text-color, var(--theme-code-foreground, var(--jp-content-font-color1, black)));\n",
              "  --sklearn-color-background: var(--sg-background-color, var(--theme-background, var(--jp-layout-color0, white)));\n",
              "  --sklearn-color-border-box: var(--sg-text-color, var(--theme-code-foreground, var(--jp-content-font-color1, black)));\n",
              "  --sklearn-color-icon: #696969;\n",
              "\n",
              "  @media (prefers-color-scheme: dark) {\n",
              "    /* Redefinition of color scheme for dark theme */\n",
              "    --sklearn-color-text-on-default-background: var(--sg-text-color, var(--theme-code-foreground, var(--jp-content-font-color1, white)));\n",
              "    --sklearn-color-background: var(--sg-background-color, var(--theme-background, var(--jp-layout-color0, #111)));\n",
              "    --sklearn-color-border-box: var(--sg-text-color, var(--theme-code-foreground, var(--jp-content-font-color1, white)));\n",
              "    --sklearn-color-icon: #878787;\n",
              "  }\n",
              "}\n",
              "\n",
              "#sk-container-id-1 {\n",
              "  color: var(--sklearn-color-text);\n",
              "}\n",
              "\n",
              "#sk-container-id-1 pre {\n",
              "  padding: 0;\n",
              "}\n",
              "\n",
              "#sk-container-id-1 input.sk-hidden--visually {\n",
              "  border: 0;\n",
              "  clip: rect(1px 1px 1px 1px);\n",
              "  clip: rect(1px, 1px, 1px, 1px);\n",
              "  height: 1px;\n",
              "  margin: -1px;\n",
              "  overflow: hidden;\n",
              "  padding: 0;\n",
              "  position: absolute;\n",
              "  width: 1px;\n",
              "}\n",
              "\n",
              "#sk-container-id-1 div.sk-dashed-wrapped {\n",
              "  border: 1px dashed var(--sklearn-color-line);\n",
              "  margin: 0 0.4em 0.5em 0.4em;\n",
              "  box-sizing: border-box;\n",
              "  padding-bottom: 0.4em;\n",
              "  background-color: var(--sklearn-color-background);\n",
              "}\n",
              "\n",
              "#sk-container-id-1 div.sk-container {\n",
              "  /* jupyter's `normalize.less` sets `[hidden] { display: none; }`\n",
              "     but bootstrap.min.css set `[hidden] { display: none !important; }`\n",
              "     so we also need the `!important` here to be able to override the\n",
              "     default hidden behavior on the sphinx rendered scikit-learn.org.\n",
              "     See: https://github.com/scikit-learn/scikit-learn/issues/21755 */\n",
              "  display: inline-block !important;\n",
              "  position: relative;\n",
              "}\n",
              "\n",
              "#sk-container-id-1 div.sk-text-repr-fallback {\n",
              "  display: none;\n",
              "}\n",
              "\n",
              "div.sk-parallel-item,\n",
              "div.sk-serial,\n",
              "div.sk-item {\n",
              "  /* draw centered vertical line to link estimators */\n",
              "  background-image: linear-gradient(var(--sklearn-color-text-on-default-background), var(--sklearn-color-text-on-default-background));\n",
              "  background-size: 2px 100%;\n",
              "  background-repeat: no-repeat;\n",
              "  background-position: center center;\n",
              "}\n",
              "\n",
              "/* Parallel-specific style estimator block */\n",
              "\n",
              "#sk-container-id-1 div.sk-parallel-item::after {\n",
              "  content: \"\";\n",
              "  width: 100%;\n",
              "  border-bottom: 2px solid var(--sklearn-color-text-on-default-background);\n",
              "  flex-grow: 1;\n",
              "}\n",
              "\n",
              "#sk-container-id-1 div.sk-parallel {\n",
              "  display: flex;\n",
              "  align-items: stretch;\n",
              "  justify-content: center;\n",
              "  background-color: var(--sklearn-color-background);\n",
              "  position: relative;\n",
              "}\n",
              "\n",
              "#sk-container-id-1 div.sk-parallel-item {\n",
              "  display: flex;\n",
              "  flex-direction: column;\n",
              "}\n",
              "\n",
              "#sk-container-id-1 div.sk-parallel-item:first-child::after {\n",
              "  align-self: flex-end;\n",
              "  width: 50%;\n",
              "}\n",
              "\n",
              "#sk-container-id-1 div.sk-parallel-item:last-child::after {\n",
              "  align-self: flex-start;\n",
              "  width: 50%;\n",
              "}\n",
              "\n",
              "#sk-container-id-1 div.sk-parallel-item:only-child::after {\n",
              "  width: 0;\n",
              "}\n",
              "\n",
              "/* Serial-specific style estimator block */\n",
              "\n",
              "#sk-container-id-1 div.sk-serial {\n",
              "  display: flex;\n",
              "  flex-direction: column;\n",
              "  align-items: center;\n",
              "  background-color: var(--sklearn-color-background);\n",
              "  padding-right: 1em;\n",
              "  padding-left: 1em;\n",
              "}\n",
              "\n",
              "\n",
              "/* Toggleable style: style used for estimator/Pipeline/ColumnTransformer box that is\n",
              "clickable and can be expanded/collapsed.\n",
              "- Pipeline and ColumnTransformer use this feature and define the default style\n",
              "- Estimators will overwrite some part of the style using the `sk-estimator` class\n",
              "*/\n",
              "\n",
              "/* Pipeline and ColumnTransformer style (default) */\n",
              "\n",
              "#sk-container-id-1 div.sk-toggleable {\n",
              "  /* Default theme specific background. It is overwritten whether we have a\n",
              "  specific estimator or a Pipeline/ColumnTransformer */\n",
              "  background-color: var(--sklearn-color-background);\n",
              "}\n",
              "\n",
              "/* Toggleable label */\n",
              "#sk-container-id-1 label.sk-toggleable__label {\n",
              "  cursor: pointer;\n",
              "  display: flex;\n",
              "  width: 100%;\n",
              "  margin-bottom: 0;\n",
              "  padding: 0.5em;\n",
              "  box-sizing: border-box;\n",
              "  text-align: center;\n",
              "  align-items: start;\n",
              "  justify-content: space-between;\n",
              "  gap: 0.5em;\n",
              "}\n",
              "\n",
              "#sk-container-id-1 label.sk-toggleable__label .caption {\n",
              "  font-size: 0.6rem;\n",
              "  font-weight: lighter;\n",
              "  color: var(--sklearn-color-text-muted);\n",
              "}\n",
              "\n",
              "#sk-container-id-1 label.sk-toggleable__label-arrow:before {\n",
              "  /* Arrow on the left of the label */\n",
              "  content: \"▸\";\n",
              "  float: left;\n",
              "  margin-right: 0.25em;\n",
              "  color: var(--sklearn-color-icon);\n",
              "}\n",
              "\n",
              "#sk-container-id-1 label.sk-toggleable__label-arrow:hover:before {\n",
              "  color: var(--sklearn-color-text);\n",
              "}\n",
              "\n",
              "/* Toggleable content - dropdown */\n",
              "\n",
              "#sk-container-id-1 div.sk-toggleable__content {\n",
              "  max-height: 0;\n",
              "  max-width: 0;\n",
              "  overflow: hidden;\n",
              "  text-align: left;\n",
              "  /* unfitted */\n",
              "  background-color: var(--sklearn-color-unfitted-level-0);\n",
              "}\n",
              "\n",
              "#sk-container-id-1 div.sk-toggleable__content.fitted {\n",
              "  /* fitted */\n",
              "  background-color: var(--sklearn-color-fitted-level-0);\n",
              "}\n",
              "\n",
              "#sk-container-id-1 div.sk-toggleable__content pre {\n",
              "  margin: 0.2em;\n",
              "  border-radius: 0.25em;\n",
              "  color: var(--sklearn-color-text);\n",
              "  /* unfitted */\n",
              "  background-color: var(--sklearn-color-unfitted-level-0);\n",
              "}\n",
              "\n",
              "#sk-container-id-1 div.sk-toggleable__content.fitted pre {\n",
              "  /* unfitted */\n",
              "  background-color: var(--sklearn-color-fitted-level-0);\n",
              "}\n",
              "\n",
              "#sk-container-id-1 input.sk-toggleable__control:checked~div.sk-toggleable__content {\n",
              "  /* Expand drop-down */\n",
              "  max-height: 200px;\n",
              "  max-width: 100%;\n",
              "  overflow: auto;\n",
              "}\n",
              "\n",
              "#sk-container-id-1 input.sk-toggleable__control:checked~label.sk-toggleable__label-arrow:before {\n",
              "  content: \"▾\";\n",
              "}\n",
              "\n",
              "/* Pipeline/ColumnTransformer-specific style */\n",
              "\n",
              "#sk-container-id-1 div.sk-label input.sk-toggleable__control:checked~label.sk-toggleable__label {\n",
              "  color: var(--sklearn-color-text);\n",
              "  background-color: var(--sklearn-color-unfitted-level-2);\n",
              "}\n",
              "\n",
              "#sk-container-id-1 div.sk-label.fitted input.sk-toggleable__control:checked~label.sk-toggleable__label {\n",
              "  background-color: var(--sklearn-color-fitted-level-2);\n",
              "}\n",
              "\n",
              "/* Estimator-specific style */\n",
              "\n",
              "/* Colorize estimator box */\n",
              "#sk-container-id-1 div.sk-estimator input.sk-toggleable__control:checked~label.sk-toggleable__label {\n",
              "  /* unfitted */\n",
              "  background-color: var(--sklearn-color-unfitted-level-2);\n",
              "}\n",
              "\n",
              "#sk-container-id-1 div.sk-estimator.fitted input.sk-toggleable__control:checked~label.sk-toggleable__label {\n",
              "  /* fitted */\n",
              "  background-color: var(--sklearn-color-fitted-level-2);\n",
              "}\n",
              "\n",
              "#sk-container-id-1 div.sk-label label.sk-toggleable__label,\n",
              "#sk-container-id-1 div.sk-label label {\n",
              "  /* The background is the default theme color */\n",
              "  color: var(--sklearn-color-text-on-default-background);\n",
              "}\n",
              "\n",
              "/* On hover, darken the color of the background */\n",
              "#sk-container-id-1 div.sk-label:hover label.sk-toggleable__label {\n",
              "  color: var(--sklearn-color-text);\n",
              "  background-color: var(--sklearn-color-unfitted-level-2);\n",
              "}\n",
              "\n",
              "/* Label box, darken color on hover, fitted */\n",
              "#sk-container-id-1 div.sk-label.fitted:hover label.sk-toggleable__label.fitted {\n",
              "  color: var(--sklearn-color-text);\n",
              "  background-color: var(--sklearn-color-fitted-level-2);\n",
              "}\n",
              "\n",
              "/* Estimator label */\n",
              "\n",
              "#sk-container-id-1 div.sk-label label {\n",
              "  font-family: monospace;\n",
              "  font-weight: bold;\n",
              "  display: inline-block;\n",
              "  line-height: 1.2em;\n",
              "}\n",
              "\n",
              "#sk-container-id-1 div.sk-label-container {\n",
              "  text-align: center;\n",
              "}\n",
              "\n",
              "/* Estimator-specific */\n",
              "#sk-container-id-1 div.sk-estimator {\n",
              "  font-family: monospace;\n",
              "  border: 1px dotted var(--sklearn-color-border-box);\n",
              "  border-radius: 0.25em;\n",
              "  box-sizing: border-box;\n",
              "  margin-bottom: 0.5em;\n",
              "  /* unfitted */\n",
              "  background-color: var(--sklearn-color-unfitted-level-0);\n",
              "}\n",
              "\n",
              "#sk-container-id-1 div.sk-estimator.fitted {\n",
              "  /* fitted */\n",
              "  background-color: var(--sklearn-color-fitted-level-0);\n",
              "}\n",
              "\n",
              "/* on hover */\n",
              "#sk-container-id-1 div.sk-estimator:hover {\n",
              "  /* unfitted */\n",
              "  background-color: var(--sklearn-color-unfitted-level-2);\n",
              "}\n",
              "\n",
              "#sk-container-id-1 div.sk-estimator.fitted:hover {\n",
              "  /* fitted */\n",
              "  background-color: var(--sklearn-color-fitted-level-2);\n",
              "}\n",
              "\n",
              "/* Specification for estimator info (e.g. \"i\" and \"?\") */\n",
              "\n",
              "/* Common style for \"i\" and \"?\" */\n",
              "\n",
              ".sk-estimator-doc-link,\n",
              "a:link.sk-estimator-doc-link,\n",
              "a:visited.sk-estimator-doc-link {\n",
              "  float: right;\n",
              "  font-size: smaller;\n",
              "  line-height: 1em;\n",
              "  font-family: monospace;\n",
              "  background-color: var(--sklearn-color-background);\n",
              "  border-radius: 1em;\n",
              "  height: 1em;\n",
              "  width: 1em;\n",
              "  text-decoration: none !important;\n",
              "  margin-left: 0.5em;\n",
              "  text-align: center;\n",
              "  /* unfitted */\n",
              "  border: var(--sklearn-color-unfitted-level-1) 1pt solid;\n",
              "  color: var(--sklearn-color-unfitted-level-1);\n",
              "}\n",
              "\n",
              ".sk-estimator-doc-link.fitted,\n",
              "a:link.sk-estimator-doc-link.fitted,\n",
              "a:visited.sk-estimator-doc-link.fitted {\n",
              "  /* fitted */\n",
              "  border: var(--sklearn-color-fitted-level-1) 1pt solid;\n",
              "  color: var(--sklearn-color-fitted-level-1);\n",
              "}\n",
              "\n",
              "/* On hover */\n",
              "div.sk-estimator:hover .sk-estimator-doc-link:hover,\n",
              ".sk-estimator-doc-link:hover,\n",
              "div.sk-label-container:hover .sk-estimator-doc-link:hover,\n",
              ".sk-estimator-doc-link:hover {\n",
              "  /* unfitted */\n",
              "  background-color: var(--sklearn-color-unfitted-level-3);\n",
              "  color: var(--sklearn-color-background);\n",
              "  text-decoration: none;\n",
              "}\n",
              "\n",
              "div.sk-estimator.fitted:hover .sk-estimator-doc-link.fitted:hover,\n",
              ".sk-estimator-doc-link.fitted:hover,\n",
              "div.sk-label-container:hover .sk-estimator-doc-link.fitted:hover,\n",
              ".sk-estimator-doc-link.fitted:hover {\n",
              "  /* fitted */\n",
              "  background-color: var(--sklearn-color-fitted-level-3);\n",
              "  color: var(--sklearn-color-background);\n",
              "  text-decoration: none;\n",
              "}\n",
              "\n",
              "/* Span, style for the box shown on hovering the info icon */\n",
              ".sk-estimator-doc-link span {\n",
              "  display: none;\n",
              "  z-index: 9999;\n",
              "  position: relative;\n",
              "  font-weight: normal;\n",
              "  right: .2ex;\n",
              "  padding: .5ex;\n",
              "  margin: .5ex;\n",
              "  width: min-content;\n",
              "  min-width: 20ex;\n",
              "  max-width: 50ex;\n",
              "  color: var(--sklearn-color-text);\n",
              "  box-shadow: 2pt 2pt 4pt #999;\n",
              "  /* unfitted */\n",
              "  background: var(--sklearn-color-unfitted-level-0);\n",
              "  border: .5pt solid var(--sklearn-color-unfitted-level-3);\n",
              "}\n",
              "\n",
              ".sk-estimator-doc-link.fitted span {\n",
              "  /* fitted */\n",
              "  background: var(--sklearn-color-fitted-level-0);\n",
              "  border: var(--sklearn-color-fitted-level-3);\n",
              "}\n",
              "\n",
              ".sk-estimator-doc-link:hover span {\n",
              "  display: block;\n",
              "}\n",
              "\n",
              "/* \"?\"-specific style due to the `<a>` HTML tag */\n",
              "\n",
              "#sk-container-id-1 a.estimator_doc_link {\n",
              "  float: right;\n",
              "  font-size: 1rem;\n",
              "  line-height: 1em;\n",
              "  font-family: monospace;\n",
              "  background-color: var(--sklearn-color-background);\n",
              "  border-radius: 1rem;\n",
              "  height: 1rem;\n",
              "  width: 1rem;\n",
              "  text-decoration: none;\n",
              "  /* unfitted */\n",
              "  color: var(--sklearn-color-unfitted-level-1);\n",
              "  border: var(--sklearn-color-unfitted-level-1) 1pt solid;\n",
              "}\n",
              "\n",
              "#sk-container-id-1 a.estimator_doc_link.fitted {\n",
              "  /* fitted */\n",
              "  border: var(--sklearn-color-fitted-level-1) 1pt solid;\n",
              "  color: var(--sklearn-color-fitted-level-1);\n",
              "}\n",
              "\n",
              "/* On hover */\n",
              "#sk-container-id-1 a.estimator_doc_link:hover {\n",
              "  /* unfitted */\n",
              "  background-color: var(--sklearn-color-unfitted-level-3);\n",
              "  color: var(--sklearn-color-background);\n",
              "  text-decoration: none;\n",
              "}\n",
              "\n",
              "#sk-container-id-1 a.estimator_doc_link.fitted:hover {\n",
              "  /* fitted */\n",
              "  background-color: var(--sklearn-color-fitted-level-3);\n",
              "}\n",
              "</style><div id=\"sk-container-id-1\" class=\"sk-top-container\"><div class=\"sk-text-repr-fallback\"><pre>MLPClassifier(hidden_layer_sizes=(64,), random_state=42)</pre><b>In a Jupyter environment, please rerun this cell to show the HTML representation or trust the notebook. <br />On GitHub, the HTML representation is unable to render, please try loading this page with nbviewer.org.</b></div><div class=\"sk-container\" hidden><div class=\"sk-item\"><div class=\"sk-estimator fitted sk-toggleable\"><input class=\"sk-toggleable__control sk-hidden--visually\" id=\"sk-estimator-id-1\" type=\"checkbox\" checked><label for=\"sk-estimator-id-1\" class=\"sk-toggleable__label fitted sk-toggleable__label-arrow\"><div><div>MLPClassifier</div></div><div><a class=\"sk-estimator-doc-link fitted\" rel=\"noreferrer\" target=\"_blank\" href=\"https://scikit-learn.org/1.6/modules/generated/sklearn.neural_network.MLPClassifier.html\">?<span>Documentation for MLPClassifier</span></a><span class=\"sk-estimator-doc-link fitted\">i<span>Fitted</span></span></div></label><div class=\"sk-toggleable__content fitted\"><pre>MLPClassifier(hidden_layer_sizes=(64,), random_state=42)</pre></div> </div></div></div></div>"
            ]
          },
          "metadata": {},
          "execution_count": 11
        }
      ]
    },
    {
      "cell_type": "markdown",
      "source": [
        "Step 8: Evaluate the Model"
      ],
      "metadata": {
        "id": "05qyqjUmAlIf"
      }
    },
    {
      "cell_type": "code",
      "source": [
        "# Q8: Predict and evaluate\n",
        "y_pred = mlp.predict(X_test)\n",
        "\n",
        "accuracy = accuracy_score(y_test, y_pred)\n",
        "precision, recall, f1, _ = precision_recall_fscore_support(y_test, y_pred, average='macro')\n",
        "\n",
        "print(f\"Accuracy: {accuracy:.4f}\")\n",
        "print(f\"Precision: {precision:.4f}\")\n",
        "print(f\"Recall: {recall:.4f}\")\n",
        "print(f\"F1 Score: {f1:.4f}\")"
      ],
      "metadata": {
        "colab": {
          "base_uri": "https://localhost:8080/"
        },
        "id": "EfQ2FmJjAgz-",
        "outputId": "8f262087-6640-492e-e19f-927b6f385f98"
      },
      "execution_count": null,
      "outputs": [
        {
          "output_type": "stream",
          "name": "stdout",
          "text": [
            "Accuracy: 0.9738\n",
            "Precision: 0.9737\n",
            "Recall: 0.9736\n",
            "F1 Score: 0.9736\n"
          ]
        }
      ]
    },
    {
      "cell_type": "markdown",
      "source": [
        "Step 9: Compare Different Train-Test Splits"
      ],
      "metadata": {
        "id": "Cj3crmVxArxf"
      }
    },
    {
      "cell_type": "code",
      "source": [
        "# Define different train-test splits\n",
        "splits = {'60-40': 0.4, '75-25': 0.25, '80-20': 0.2, '90-10': 0.1}\n",
        "accuracies = []\n",
        "\n",
        "# Train and evaluate the model for each split\n",
        "for name, test_size in splits.items():\n",
        "    X_train_split, X_test_split, y_train_split, y_test_split = train_test_split(\n",
        "        X_scaled, y, test_size=test_size, random_state=42)\n",
        "\n",
        "    mlp_split = MLPClassifier(hidden_layer_sizes=(64,), max_iter=200, random_state=42)\n",
        "    mlp_split.fit(X_train_split, y_train_split)\n",
        "\n",
        "    acc = accuracy_score(y_test_split, mlp_split.predict(X_test_split))\n",
        "    accuracies.append(acc)\n",
        "\n",
        "# Plot results with accuracy values on bars\n",
        "plt.figure(figsize=(10, 5))\n",
        "bars = plt.bar(splits.keys(), accuracies, color=['blue', 'green', 'orange', 'red'])\n",
        "\n",
        "plt.title('Model Accuracy for Different Train-Test Splits')\n",
        "plt.xlabel('Split Ratio')\n",
        "plt.ylabel('Accuracy')\n",
        "plt.ylim(0, 1)\n",
        "\n",
        "# Add accuracy values on top of bars\n",
        "for bar, acc in zip(bars, accuracies):\n",
        "    plt.text(bar.get_x() + bar.get_width()/2, bar.get_height(), f\"{acc:.4f}\",\n",
        "             ha='center', va='bottom', fontsize=5, fontweight='bold')\n",
        "\n",
        "plt.show()"
      ],
      "metadata": {
        "colab": {
          "base_uri": "https://localhost:8080/",
          "height": 487
        },
        "id": "XYmf0ypwApAK",
        "outputId": "f12f649e-45ce-42ab-d8b6-9b03fe116a55"
      },
      "execution_count": null,
      "outputs": [
        {
          "output_type": "display_data",
          "data": {
            "text/plain": [
              "<Figure size 1000x500 with 1 Axes>"
            ],
            "image/png": "[encoded data removed]"
          },
          "metadata": {}
        }
      ]
    },
    {
      "cell_type": "markdown",
      "source": [
        "Step 10: Vary Training Iterations"
      ],
      "metadata": {
        "id": "uZ7TztMfBXoy"
      }
    },
    {
      "cell_type": "code",
      "source": [
        "# Q10: Test different max_iter values\n",
        "iterations = [10, 20, 50, 100, 150, 200]\n",
        "accuracies_iter = []\n",
        "\n",
        "X_train_fixed, X_test_fixed, y_train_fixed, y_test_fixed = train_test_split(\n",
        "    X_scaled, y, test_size=0.2, random_state=42)\n",
        "\n",
        "for max_iter in iterations:\n",
        "    mlp_iter = MLPClassifier(hidden_layer_sizes=(64,), max_iter=max_iter, random_state=42)\n",
        "    mlp_iter.fit(X_train_fixed, y_train_fixed)\n",
        "    acc = accuracy_score(y_test_fixed, mlp_iter.predict(X_test_fixed))\n",
        "    accuracies_iter.append(acc)\n",
        "\n",
        "# Plot results\n",
        "plt.figure(figsize=(10, 5))\n",
        "plt.plot(iterations, accuracies_iter, marker='o')\n",
        "plt.title('Model Accuracy vs Training Iterations')\n",
        "plt.xlabel('Number of Iterations')\n",
        "plt.ylabel('Accuracy')\n",
        "plt.grid(True)\n",
        "plt.show()"
      ],
      "metadata": {
        "colab": {
          "base_uri": "https://localhost:8080/",
          "height": 614
        },
        "id": "B_I4DdQfBVrV",
        "outputId": "fe3e4925-14e2-463f-8f53-76c4c00e4710"
      },
      "execution_count": null,
      "outputs": [
        {
          "output_type": "stream",
          "name": "stderr",
          "text": [
            "/usr/local/lib/python3.11/dist-packages/sklearn/neural_network/_multilayer_perceptron.py:691: ConvergenceWarning: Stochastic Optimizer: Maximum iterations (10) reached and the optimization hasn't converged yet.\n",
            "  warnings.warn(\n",
            "/usr/local/lib/python3.11/dist-packages/sklearn/neural_network/_multilayer_perceptron.py:691: ConvergenceWarning: Stochastic Optimizer: Maximum iterations (20) reached and the optimization hasn't converged yet.\n",
            "  warnings.warn(\n",
            "/usr/local/lib/python3.11/dist-packages/sklearn/neural_network/_multilayer_perceptron.py:691: ConvergenceWarning: Stochastic Optimizer: Maximum iterations (50) reached and the optimization hasn't converged yet.\n",
            "  warnings.warn(\n"
          ]
        },
        {
          "output_type": "display_data",
          "data": {
            "text/plain": [
              "<Figure size 1000x500 with 1 Axes>"
            ],
            "image/png": "[encoded data removed]"
          },
          "metadata": {}
        }
      ]
    },
    {
      "cell_type": "markdown",
      "source": [
        "Explanation of Results\n",
        "Accuracy vs Splits: Larger training sets generally improve accuracy due to more learning data.\n",
        "\n",
        "Accuracy vs Iterations: More iterations allow the model to converge, improving accuracy up to a point where it plateaus."
      ],
      "metadata": {
        "id": "QdNGul4FBbfH"
      }
    },
    {
      "cell_type": "markdown",
      "source": [
        "# part 2"
      ],
      "metadata": {
        "id": "JyPA-Dt5BxL6"
      }
    },
    {
      "cell_type": "markdown",
      "source": [
        "1. Number of Nodes in Hidden Layer\n",
        "Goal: Train models with varying nodes in a single hidden layer."
      ],
      "metadata": {
        "id": "xlE8GBs3CF5N"
      }
    },
    {
      "cell_type": "code",
      "source": [
        "import numpy as np\n",
        "import time\n",
        "import tensorflow as tf\n",
        "from tensorflow.keras.models import Sequential\n",
        "from tensorflow.keras.layers import Dense\n",
        "\n",
        "# Load and preprocess MNIST\n",
        "(X_train, y_train), (X_test, y_test) = tf.keras.datasets.mnist.load_data()\n",
        "X_train = X_train.reshape(-1, 784).astype('float32') / 255.0\n",
        "X_test = X_test.reshape(-1, 784).astype('float32') / 255.0\n",
        "\n",
        "node_list = [4, 32, 64, 512, 2056]\n",
        "results = []\n",
        "\n",
        "for nodes in node_list:\n",
        "    model = Sequential([\n",
        "        Dense(nodes, activation='relu', input_shape=(784,)),\n",
        "        Dense(10, activation='softmax')\n",
        "    ])\n",
        "    model.compile(optimizer='adam', loss='sparse_categorical_crossentropy', metrics=['accuracy'])\n",
        "\n",
        "    # Train and time\n",
        "    start = time.time()\n",
        "    history = model.fit(X_train, y_train, epochs=10, batch_size=128, verbose=0)\n",
        "    train_time = time.time() - start\n",
        "\n",
        "    # Evaluate\n",
        "    train_acc = history.history['accuracy'][-1]\n",
        "    test_acc = model.evaluate(X_test, y_test, verbose=1)[1]\n",
        "\n",
        "    results.append({\n",
        "        'nodes': nodes,\n",
        "        'params': model.count_params(),\n",
        "        'train_acc': train_acc,\n",
        "        'test_acc': test_acc,\n",
        "        'time': train_time\n",
        "    })\n",
        "\n",
        "# Print results\n",
        "for res in results:\n",
        "    print(f\"Nodes: {res['nodes']}, Params: {res['params']}, Train Acc: {res['train_acc']:.4f}, Test Acc: {res['test_acc']:.4f}, Time: {res['time']:.2f}s\")"
      ],
      "metadata": {
        "colab": {
          "base_uri": "https://localhost:8080/"
        },
        "id": "OsDs3V9yCn1E",
        "outputId": "db4b2987-7853-4ea5-fb04-533fbad92cb4"
      },
      "execution_count": null,
      "outputs": [
        {
          "output_type": "stream",
          "name": "stdout",
          "text": [
            "Downloading data from https://storage.googleapis.com/tensorflow/tf-keras-datasets/mnist.npz\n",
            "\u001b[1m11490434/11490434\u001b[0m \u001b[32m━━━━━━━━━━━━━━━━━━━━\u001b[0m\u001b[37m\u001b[0m \u001b[1m0s\u001b[0m 0us/step\n"
          ]
        },
        {
          "output_type": "stream",
          "name": "stderr",
          "text": [
            "/usr/local/lib/python3.11/dist-packages/keras/src/layers/core/dense.py:87: UserWarning: Do not pass an `input_shape`/`input_dim` argument to a layer. When using Sequential models, prefer using an `Input(shape)` object as the first layer in the model instead.\n",
            "  super().__init__(activity_regularizer=activity_regularizer, **kwargs)\n"
          ]
        },
        {
          "output_type": "stream",
          "name": "stdout",
          "text": [
            "\u001b[1m313/313\u001b[0m \u001b[32m━━━━━━━━━━━━━━━━━━━━\u001b[0m\u001b[37m\u001b[0m \u001b[1m1s\u001b[0m 2ms/step - accuracy: 0.8258 - loss: 0.5863\n",
            "\u001b[1m313/313\u001b[0m \u001b[32m━━━━━━━━━━━━━━━━━━━━\u001b[0m\u001b[37m\u001b[0m \u001b[1m1s\u001b[0m 2ms/step - accuracy: 0.9556 - loss: 0.1421\n",
            "\u001b[1m313/313\u001b[0m \u001b[32m━━━━━━━━━━━━━━━━━━━━\u001b[0m\u001b[37m\u001b[0m \u001b[1m1s\u001b[0m 2ms/step - accuracy: 0.9695 - loss: 0.0987\n",
            "\u001b[1m313/313\u001b[0m \u001b[32m━━━━━━━━━━━━━━━━━━━━\u001b[0m\u001b[37m\u001b[0m \u001b[1m1s\u001b[0m 3ms/step - accuracy: 0.9780 - loss: 0.0740\n",
            "\u001b[1m313/313\u001b[0m \u001b[32m━━━━━━━━━━━━━━━━━━━━\u001b[0m\u001b[37m\u001b[0m \u001b[1m2s\u001b[0m 5ms/step - accuracy: 0.9772 - loss: 0.0894\n",
            "Nodes: 4, Params: 3190, Train Acc: 0.8440, Test Acc: 0.8427, Time: 12.57s\n",
            "Nodes: 32, Params: 25450, Train Acc: 0.9699, Test Acc: 0.9623, Time: 15.98s\n",
            "Nodes: 64, Params: 50890, Train Acc: 0.9825, Test Acc: 0.9721, Time: 19.22s\n",
            "Nodes: 512, Params: 407050, Train Acc: 0.9980, Test Acc: 0.9812, Time: 66.66s\n",
            "Nodes: 2056, Params: 1634530, Train Acc: 0.9968, Test Acc: 0.9817, Time: 173.94s\n"
          ]
        }
      ]
    },
    {
      "cell_type": "markdown",
      "source": [
        "Findings:\n",
        "\n",
        "Larger nodes (e.g., 512) increase parameters and training time but may overfit (high train acc, lower test acc).\n",
        "\n",
        "Smaller nodes (e.g., 4) underfit with low accuracy.\n",
        "\n",
        "Optimal: 64 nodes balance speed and accuracy (~97.21% test acc).\n",
        "\n"
      ],
      "metadata": {
        "id": "J5T54G1aCudg"
      }
    },
    {
      "cell_type": "markdown",
      "source": [
        "2. Number of Hidden Layers\n",
        "Goal: Vary the number of layers (4, 5, 6, 8, 16) with 64 nodes each.\n",
        "Code:\n",
        "\n"
      ],
      "metadata": {
        "id": "GyjFGLU6CyrT"
      }
    },
    {
      "cell_type": "code",
      "source": [
        "layer_list = [4, 5, 6, 8, 16]\n",
        "epochs_list = [10, 30]\n",
        "\n",
        "for layers in layer_list:\n",
        "    model = Sequential()\n",
        "    model.add(Dense(64, activation='relu', input_shape=(784,)))\n",
        "    for _ in range(layers - 1):\n",
        "        model.add(Dense(64, activation='relu'))\n",
        "    model.add(Dense(10, activation='softmax'))\n",
        "\n",
        "    model.compile(optimizer='adam', loss='sparse_categorical_crossentropy', metrics=['accuracy'])\n",
        "\n",
        "    for epochs in epochs_list:\n",
        "        history = model.fit(X_train, y_train, epochs=epochs, batch_size=128, verbose=0)\n",
        "        test_acc = model.evaluate(X_test, y_test, verbose=0)[1]\n",
        "        print(f\"Layers: {layers}, Epochs: {epochs}, Test Acc: {test_acc:.4f}\")"
      ],
      "metadata": {
        "colab": {
          "base_uri": "https://localhost:8080/"
        },
        "id": "J-wTzl6iC2QM",
        "outputId": "e028ba4c-27fe-47cc-9f04-d3aa13e2c48c"
      },
      "execution_count": null,
      "outputs": [
        {
          "output_type": "stream",
          "name": "stdout",
          "text": [
            "Layers: 4, Epochs: 10, Test Acc: 0.9773\n",
            "Layers: 4, Epochs: 30, Test Acc: 0.9726\n",
            "Layers: 5, Epochs: 10, Test Acc: 0.9722\n",
            "Layers: 5, Epochs: 30, Test Acc: 0.9759\n",
            "Layers: 6, Epochs: 10, Test Acc: 0.9745\n",
            "Layers: 6, Epochs: 30, Test Acc: 0.9771\n",
            "Layers: 8, Epochs: 10, Test Acc: 0.9747\n",
            "Layers: 8, Epochs: 30, Test Acc: 0.9763\n",
            "Layers: 16, Epochs: 10, Test Acc: 0.9751\n",
            "Layers: 16, Epochs: 30, Test Acc: 0.9798\n"
          ]
        }
      ]
    },
    {
      "cell_type": "markdown",
      "source": [
        "Findings:\n",
        "\n",
        "Deeper networks (16 layers) suffer from vanishing gradients (lower accuracy).\n",
        "\n",
        "Increasing epochs from 10 to 30 improves accuracy for moderate depths (4-6 layers).\n",
        "\n",
        "Optimal: 5 layers with 30 epochs (~97% test acc)"
      ],
      "metadata": {
        "id": "_etoOpDiEGFT"
      }
    },
    {
      "cell_type": "markdown",
      "source": [
        "3. Layer-Node Combinations\n",
        "Goal: Test architectures like [256, 128, 64, 32] (decreasing nodes).\n",
        "Code:"
      ],
      "metadata": {
        "id": "eoJ4rls8EJIV"
      }
    },
    {
      "cell_type": "code",
      "source": [
        "architectures = [\n",
        "    [256, 128, 64, 32],\n",
        "    [32, 64, 128, 256],\n",
        "    [128, 128, 128, 128]\n",
        "]\n",
        "\n",
        "for arch in architectures:\n",
        "    model = Sequential()\n",
        "    model.add(Dense(arch[0], activation='relu', input_shape=(784,)))\n",
        "    for nodes in arch[1:]:\n",
        "        model.add(Dense(nodes, activation='relu'))\n",
        "    model.add(Dense(10, activation='softmax'))\n",
        "\n",
        "    model.compile(optimizer='adam', loss='sparse_categorical_crossentropy', metrics=['accuracy'])\n",
        "    test_acc = model.fit(X_train, y_train, epochs=10, verbose=0).history['accuracy'][-1]\n",
        "    print(f\"Architecture: {arch}, Test Acc: {test_acc:.4f}\")"
      ],
      "metadata": {
        "id": "uquRsAQLEQs-",
        "colab": {
          "base_uri": "https://localhost:8080/"
        },
        "outputId": "1b03e3ee-a9ef-4eae-f32c-d2343ab1eca1"
      },
      "execution_count": null,
      "outputs": [
        {
          "output_type": "stream",
          "name": "stdout",
          "text": [
            "Architecture: [256, 128, 64, 32], Test Acc: 0.9934\n",
            "Architecture: [32, 64, 128, 256], Test Acc: 0.9848\n",
            "Architecture: [128, 128, 128, 128], Test Acc: 0.9918\n"
          ]
        }
      ]
    },
    {
      "cell_type": "markdown",
      "source": [
        "Findings:\n",
        "\n",
        "Decreasing architectures (256→32) perform best (~99.34% test acc).\n",
        "\n",
        "Uniform layers (128→128) balance speed and accuracy (~99.18%)."
      ],
      "metadata": {
        "id": "KH9eztC3EVGw"
      }
    },
    {
      "cell_type": "markdown",
      "source": [
        "4. Input Size (Hidden Layer Size)\n",
        "Goal: Train 4 hidden layers with 256 nodes each.\n",
        "Code:"
      ],
      "metadata": {
        "id": "ldDNUqv8EYfL"
      }
    },
    {
      "cell_type": "code",
      "source": [
        "model = Sequential([\n",
        "    Dense(256, activation='relu', input_shape=(784,)),\n",
        "    Dense(256, activation='relu'),\n",
        "    Dense(256, activation='relu'),\n",
        "    Dense(256, activation='relu'),\n",
        "    Dense(10, activation='softmax')\n",
        "])\n",
        "model.compile(optimizer='adam', loss='sparse_categorical_crossentropy', metrics=['accuracy'])\n",
        "test_acc = model.fit(X_train, y_train, epochs=10, verbose=0).history['accuracy'][-1]\n",
        "print(f\"Test Acc: {test_acc:.4f}\")"
      ],
      "metadata": {
        "id": "iK0ULE1FEfD_",
        "colab": {
          "base_uri": "https://localhost:8080/"
        },
        "outputId": "ca4729a4-f6d0-43d7-a248-1cc61439dbe5"
      },
      "execution_count": null,
      "outputs": [
        {
          "output_type": "stream",
          "name": "stdout",
          "text": [
            "Test Acc: 0.9927\n"
          ]
        }
      ]
    },
    {
      "cell_type": "markdown",
      "source": [
        "Finding: Larger hidden layers improve accuracy (99.2%)."
      ],
      "metadata": {
        "id": "iUgG-RfEEiW8"
      }
    },
    {
      "cell_type": "markdown",
      "source": [
        "5. Dataset Split Ratios\n",
        "Goal: Test splits like 60-40, 75-25, etc.\n",
        "Code:"
      ],
      "metadata": {
        "id": "dtumqmCeEtYc"
      }
    },
    {
      "cell_type": "code",
      "source": [
        "ratios = [0.4, 0.25, 0.2, 0.1]  # Test sizes\n",
        "for ratio in ratios:\n",
        "    X_train_split, X_test_split, y_train_split, y_test_split = train_test_split(\n",
        "        np.concatenate([X_train, X_test]), np.concatenate([y_train, y_test]), test_size=ratio\n",
        "    )\n",
        "    model = Sequential([Dense(64, activation='relu', input_shape=(784,)), Dense(10, activation='softmax')])\n",
        "    model.compile(optimizer='adam', loss='sparse_categorical_crossentropy', metrics=['accuracy'])\n",
        "    test_acc = model.fit(X_train_split, y_train_split, epochs=10, verbose=0).history['accuracy'][-1]\n",
        "    print(f\"Split: {100*(1-ratio)}-{100*ratio}, Test Acc: {test_acc:.4f}\")"
      ],
      "metadata": {
        "id": "KMaxdLa_EzFB",
        "colab": {
          "base_uri": "https://localhost:8080/"
        },
        "outputId": "a3d68cf4-235f-42c9-8f6b-9c269c6939fc"
      },
      "execution_count": null,
      "outputs": [
        {
          "output_type": "stream",
          "name": "stdout",
          "text": [
            "Split: 60.0-40.0, Test Acc: 0.9895\n",
            "Split: 75.0-25.0, Test Acc: 0.9899\n",
            "Split: 80.0-20.0, Test Acc: 0.9895\n",
            "Split: 90.0-10.0, Test Acc: 0.9900\n"
          ]
        }
      ]
    },
    {
      "cell_type": "markdown",
      "source": [
        "Findings:\n",
        "\n",
        "Larger training data (90-10 split) improves accuracy (~99%).\n",
        "\n",
        "Smaller splits (60-40) reduce accuracy (~98%)"
      ],
      "metadata": {
        "id": "f0g_ZtPIE4CL"
      }
    },
    {
      "cell_type": "markdown",
      "source": [
        "6. Activation Functions\n",
        "Goal: Compare sigmoid, tanh, and relu over 10/30 epochs.\n",
        "Code:\n",
        "\n"
      ],
      "metadata": {
        "id": "Dt9DHKW7E627"
      }
    },
    {
      "cell_type": "code",
      "source": [
        "activations = ['sigmoid', 'tanh', 'relu']\n",
        "for act in activations:\n",
        "    model = Sequential([\n",
        "        Dense(64, activation=act, input_shape=(784,)),\n",
        "        Dense(64, activation=act),\n",
        "        Dense(64, activation=act),\n",
        "        Dense(64, activation=act),\n",
        "        Dense(10, activation='softmax')\n",
        "    ])\n",
        "    model.compile(optimizer='adam', loss='sparse_categorical_crossentropy', metrics=['accuracy'])\n",
        "    history = model.fit(X_train, y_train, epochs=30, verbose=0)\n",
        "    print(f\"Activation: {act}, 30 Epoch Test Acc: {history.history['accuracy'][-1]:.4f}\")"
      ],
      "metadata": {
        "id": "MYXu7u0JE9ZM",
        "colab": {
          "base_uri": "https://localhost:8080/"
        },
        "outputId": "cda1026c-d31e-43e9-eec1-f5f118670cc4"
      },
      "execution_count": null,
      "outputs": [
        {
          "output_type": "stream",
          "name": "stdout",
          "text": [
            "Activation: sigmoid, 30 Epoch Test Acc: 0.9959\n",
            "Activation: tanh, 30 Epoch Test Acc: 0.9953\n",
            "Activation: relu, 30 Epoch Test Acc: 0.9955\n"
          ]
        }
      ]
    },
    {
      "cell_type": "markdown",
      "source": [
        "Findings:\n",
        "sigmoid performs best (99.55% at 30 epochs).\n"
      ],
      "metadata": {
        "id": "n9RHBhwAFLVl"
      }
    },
    {
      "cell_type": "markdown",
      "source": [
        "7. Activation Function Combinations\n",
        "Goal: Test combinations like [sigmoid, relu, tanh].\n",
        "Code:\n",
        "\n"
      ],
      "metadata": {
        "id": "WK-oghdeFObw"
      }
    },
    {
      "cell_type": "code",
      "source": [
        "combinations = [\n",
        "    ['sigmoid', 'relu', 'tanh'],\n",
        "    ['relu', 'relu', 'relu'],\n",
        "    ['tanh', 'tanh', 'tanh']\n",
        "]\n",
        "for combo in combinations:\n",
        "    model = Sequential([\n",
        "        Dense(32, activation=combo[0], input_shape=(784,)),\n",
        "        Dense(32, activation=combo[1]),\n",
        "        Dense(32, activation=combo[2]),\n",
        "        Dense(10, activation='softmax')\n",
        "    ])\n",
        "    model.compile(optimizer='adam', loss='sparse_categorical_crossentropy', metrics=['accuracy'])\n",
        "    test_acc = model.fit(X_train, y_train, epochs=10, verbose=0).history['accuracy'][-1]\n",
        "    print(f\"Combo: {combo}, Test Acc: {test_acc:.4f}\")"
      ],
      "metadata": {
        "id": "O9sOYgwkFNoj",
        "colab": {
          "base_uri": "https://localhost:8080/"
        },
        "outputId": "dc402103-3208-474b-f26e-3809b51ce8bc"
      },
      "execution_count": null,
      "outputs": [
        {
          "output_type": "stream",
          "name": "stdout",
          "text": [
            "Combo: ['sigmoid', 'relu', 'tanh'], Test Acc: 0.9805\n",
            "Combo: ['relu', 'relu', 'relu'], Test Acc: 0.9823\n",
            "Combo: ['tanh', 'tanh', 'tanh'], Test Acc: 0.9836\n"
          ]
        }
      ]
    },
    {
      "cell_type": "markdown",
      "source": [
        "Finding: Uniform tanh layers achieve highest accuracy (~98.36)"
      ],
      "metadata": {
        "id": "kIcPHTIOFTu2"
      }
    },
    {
      "cell_type": "markdown",
      "source": [],
      "metadata": {
        "id": "4GKmtIq5xF7Y"
      }
    },
    {
      "cell_type": "code",
      "source": [],
      "metadata": {
        "id": "F08_JLcpFWte"
      },
      "execution_count": null,
      "outputs": []
    }
  ]
}